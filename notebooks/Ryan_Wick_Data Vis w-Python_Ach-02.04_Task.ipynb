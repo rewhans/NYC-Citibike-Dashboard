{
 "cells": [
  {
   "cell_type": "markdown",
   "id": "4520b4cb",
   "metadata": {},
   "source": [
    "# Achievement 2.4: Fundamentals of Visualizations – Part 2\n",
    "\n",
    "This notebook uses Seaborn and Matplotlib to visualize Citi Bike and NYC weather data for 2022. It includes bar charts, dual-axis line plots, box plots, and facet grids. Seaborn's themes and color palettes help improve the clarity and appearance of the charts. A colorblind-friendly palette was chosen for maximum accessibility across dark and light display modes.\n"
   ]
  },
  {
   "cell_type": "markdown",
   "id": "b91f9a4e",
   "metadata": {},
   "source": [
    "## Table of Contents\n",
    "1. [Imports and Setup](#1.-Imports-and-Setup)\n",
    "2. [Set Plot Theme and Palette](#2.-Set-Plot-Theme-and-Palette)\n",
    "3. [Top 20 Starting Stations Bar Chart](#3.-Top-20-Starting-Stations-Bar-Chart)\n",
    "4. [Dual-Axis Line Plot](#4.-Dual-Axis-Line-Plot)\n",
    "5. [Trip Duration Box Plot](#5.-Trip-Duration-Box-Plot)\n",
    "6. [FacetGrid by User Type](#6.-FacetGrid-by-User-Type)\n"
   ]
  },
  {
   "cell_type": "markdown",
   "id": "cda224ea",
   "metadata": {},
   "source": [
    "## 1. Imports and Setup"
   ]
  },
  {
   "cell_type": "code",
   "execution_count": null,
   "id": "c65943ae",
   "metadata": {},
   "outputs": [],
   "source": [
    "import pandas as pd\n",
    "import seaborn as sns\n",
    "import matplotlib.pyplot as plt\n",
    "\n",
    "# Mount Google Drive\n",
    "from google.colab import drive\n",
    "drive.mount('/content/drive')\n",
    "\n",
    "# Load dataset\n",
    "data_path = \"/content/drive/MyDrive/citibike_project/citibike_weather_merged_2022.csv\"\n",
    "df = pd.read_csv(data_path, parse_dates=[\"started_at\"])\n",
    "print(\"✅ Data shape:\", df.shape)\n",
    "df.head()"
   ]
  },
  {
   "cell_type": "markdown",
   "id": "3f0af8af",
   "metadata": {},
   "source": [
    "## 2. Set Plot Theme and Palette"
   ]
  },
  {
   "cell_type": "code",
   "execution_count": null,
   "id": "81c655c1",
   "metadata": {},
   "outputs": [],
   "source": [
    "# Set global theme and colorblind-friendly palette\n",
    "sns.set_theme(style=\"whitegrid\", palette=\"colorblind\")"
   ]
  },
  {
   "cell_type": "markdown",
   "id": "4f4e4915",
   "metadata": {},
   "source": [
    "**Note:** A colorblind-safe palette was selected to ensure accessibility across devices with both light and dark themes. This decision was also informed by personal awareness of colorblindness prevalence from military experience.\n"
   ]
  },
  {
   "cell_type": "markdown",
   "id": "83bed4f2",
   "metadata": {},
   "source": [
    "## 3. Top 20 Starting Stations Bar Chart"
   ]
  },
  {
   "cell_type": "code",
   "execution_count": null,
   "id": "2720e3fd",
   "metadata": {},
   "outputs": [],
   "source": [
    "# Count trip starts by station\n",
    "top_stations = df['start_station_name'].value_counts().head(20).reset_index()\n",
    "top_stations.columns = ['start_station_name', 'trip_count']\n",
    "\n",
    "# Plot bar chart\n",
    "plt.figure(figsize=(12, 6))\n",
    "sns.barplot(data=top_stations, y='start_station_name', x='trip_count')\n",
    "plt.title(\"Top 20 Most Frequent Starting Stations - 2022\")\n",
    "plt.xlabel(\"Trip Count\")\n",
    "plt.ylabel(\"Start Station Name\")\n",
    "plt.tight_layout()\n",
    "plt.show()"
   ]
  },
  {
   "cell_type": "markdown",
   "id": "297d038f",
   "metadata": {},
   "source": [
    "## 4. Dual-Axis Line Plot"
   ]
  },
  {
   "cell_type": "code",
   "execution_count": null,
   "id": "0183e321",
   "metadata": {},
   "outputs": [],
   "source": [
    "# Ensure 'date' exists\n",
    "df['date'] = pd.to_datetime(df['started_at']).dt.date\n",
    "\n",
    "# Aggregate daily data\n",
    "daily_weather = df.groupby('date')[['TMAX', 'TMIN']].mean().reset_index()\n",
    "daily_trips = df.groupby('date').size().reset_index(name='trip_count')\n",
    "merged = pd.merge(daily_weather, daily_trips, on='date')\n",
    "\n",
    "# Create dual-axis plot\n",
    "fig, ax1 = plt.subplots(figsize=(14, 5))\n",
    "sns.lineplot(data=merged, x='date', y='trip_count', ax=ax1, color='tab:blue', label='Trip Count')\n",
    "ax1.set_ylabel(\"Trip Count\", color='tab:blue')\n",
    "ax1.tick_params(axis='y', labelcolor='tab:blue')\n",
    "\n",
    "# Second axis for temperature\n",
    "ax2 = ax1.twinx()\n",
    "sns.lineplot(data=merged, x='date', y='TMAX', ax=ax2, color='tab:red', label='Max Temp')\n",
    "ax2.set_ylabel(\"Max Temperature (°F)\", color='tab:red')\n",
    "ax2.tick_params(axis='y', labelcolor='tab:red')\n",
    "\n",
    "# Labels and title\n",
    "ax1.set_xlabel(\"Date\")\n",
    "ax1.set_title(\"Daily Citi Bike Trips vs. Max Temperature (2022)\")\n",
    "plt.grid(True)\n",
    "fig.tight_layout()\n",
    "plt.show()"
   ]
  },
  {
   "cell_type": "markdown",
   "id": "86387fb2",
   "metadata": {},
   "source": [
    "## 5. Trip Duration Box Plot"
   ]
  },
  {
   "cell_type": "code",
   "execution_count": null,
   "id": "68085acc",
   "metadata": {},
   "outputs": [],
   "source": [
    "# Compute trip duration in minutes\n",
    "df['ended_at'] = pd.to_datetime(df['ended_at'])\n",
    "df['tripduration'] = (df['ended_at'] - df['started_at']).dt.total_seconds() / 60\n",
    "\n",
    "# Remove extreme durations\n",
    "df_filtered = df[df['tripduration'] < 120]\n",
    "\n",
    "# Create box plot\n",
    "plt.figure(figsize=(8, 5))\n",
    "sns.boxplot(data=df_filtered, x='member_casual', y='tripduration')\n",
    "plt.title(\"Trip Duration by User Type\")\n",
    "plt.xlabel(\"User Type\")\n",
    "plt.ylabel(\"Trip Duration (minutes)\")\n",
    "plt.tight_layout()\n",
    "plt.show()"
   ]
  },
  {
   "cell_type": "markdown",
   "id": "c1c2f07f",
   "metadata": {},
   "source": [
    "### Box Plot Analysis\n",
    "From this chart, we see that casual users take longer rides on average than members. The median for casuals is higher, and the data spread is wider—meaning they take more varied trips. Members ride more consistently, with fewer long-duration outliers, likely due to work commutes or errands.\n"
   ]
  },
  {
   "cell_type": "markdown",
   "id": "239826ed",
   "metadata": {},
   "source": [
    "## 6. FacetGrid by User Type"
   ]
  },
  {
   "cell_type": "code",
   "execution_count": null,
   "id": "0b6a1f05",
   "metadata": {},
   "outputs": [],
   "source": [
    "# Group average daily trip duration by user type\n",
    "daily_duration = df_filtered.groupby(['date', 'member_casual'])['tripduration'].mean().reset_index()\n",
    "\n",
    "# Create facet grid of line plots\n",
    "g = sns.FacetGrid(data=daily_duration, col='member_casual', height=4, aspect=1.6)\n",
    "g.map_dataframe(sns.lineplot, x='date', y='tripduration', color='tab:green')\n",
    "g.set_axis_labels(\"Date\", \"Avg Trip Duration (min)\")\n",
    "g.set_titles(\"User Type: {col_name}\")\n",
    "g.fig.suptitle(\"Daily Average Trip Duration by User Type (2022)\", fontsize=14)\n",
    "plt.subplots_adjust(top=0.85)\n",
    "plt.show()"
   ]
  },
  {
   "cell_type": "markdown",
   "id": "79fed3c8",
   "metadata": {},
   "source": [
    "### FacetGrid Analysis\n",
    "This chart shows seasonal differences in riding behavior. Casual users’ trip durations rise in warm months and drop in winter, while members are more steady throughout the year—suggesting commute-driven use for members and leisure-driven use for casuals.\n"
   ]
  }
 ],
 "metadata": {},
 "nbformat": 4,
 "nbformat_minor": 5
}

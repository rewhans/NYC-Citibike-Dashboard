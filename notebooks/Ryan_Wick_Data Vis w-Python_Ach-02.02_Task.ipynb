{
 "cells": [
  {
   "cell_type": "markdown",
   "id": "36c2c8da",
   "metadata": {},
   "source": [
    "# Achievement 2.2: Sourcing Web Data with an API\n\nThis notebook collects and combines Citi Bike trip data and NOAA weather data for New York City in 2022. The goal is to prepare a clean dataset for use in an interactive dashboard that helps identify distribution issues in the Citi Bike system by analyzing ridership behavior in relation to date, time, station usage, and weather conditions."
   ]
  },
  {
   "cell_type": "markdown",
   "id": "b5e005d7",
   "metadata": {},
   "source": [
    "## Table of Contents\n1. [Imports and Setup](#1.-Imports-and-Setup)\n2. [Data Load and Consolidation](#2.-Data-Load-and-Consolidation)\n3. [NOAA API: Weather Data Extraction](#3.-NOAA-API:-Weather-Data-Extraction)\n4. [Retrying Failed Weather Requests](#4.-Retrying-Failed-Weather-Requests)\n5. [Combining Weather Files](#5.-Combining-Weather-Files)\n6. [Merging Citi Bike and Weather Data](#6.-Merging-Citi-Bike-and-Weather-Data)\n7. [Observations and Export](#7.-Observations-and-Export)"
   ]
  },
  {
   "cell_type": "markdown",
   "id": "2302ac66",
   "metadata": {},
   "source": [
    "## 1. Imports and Setup"
   ]
  },
  {
   "cell_type": "code",
   "execution_count": null,
   "id": "cc52083e",
   "metadata": {},
   "outputs": [],
   "source": [
    "import os\nimport glob\nimport pandas as pd\nimport requests\nfrom time import sleep\nfrom dotenv import load_dotenv"
   ]
  },
  {
   "cell_type": "markdown",
   "id": "adbb8cbf",
   "metadata": {},
   "source": [
    "## 2. Data Load and Consolidation"
   ]
  },
  {
   "cell_type": "code",
   "execution_count": null,
   "id": "c7db2b9c",
   "metadata": {},
   "outputs": [],
   "source": [
    "data_folder = r'C:\\Users\\rewha\\Desktop\\0.CareerFoundry\\3.Data Vis w-Python_ACH 02-Dashboards w-Pythons\\2022-citibike-tripdata\\2022-citibike-tripdata'\ncsv_files = glob.glob(os.path.join(data_folder, '*.csv'))\n\ndfs = []\nfor file in csv_files:\n    try:\n        df = pd.read_csv(file, engine='c', low_memory=False)\n        df.columns = [col.lower().strip() for col in df.columns]\n        dfs.append(df)\n        print(f\"✅ Loaded: {os.path.basename(file)} → Shape: {df.shape}\")\n    except Exception as e:\n        print(f\"❌ Skipped: {os.path.basename(file)} → Error: {e}\")\n\nif dfs:\n    combined_df = pd.concat(dfs, ignore_index=True)\n    print(\"✅ Combined Shape:\", combined_df.shape)\n    combined_df.to_csv(\"combined_citibike_2022.csv\", index=False)\nelse:\n    print(\"❌ No dataframes to concatenate.\")"
   ]
  },
  {
   "cell_type": "markdown",
   "id": "5c9c005d",
   "metadata": {},
   "source": [
    "## 3. NOAA API: Weather Data Extraction"
   ]
  },
  {
   "cell_type": "code",
   "execution_count": null,
   "id": "1e1a88b1",
   "metadata": {},
   "outputs": [],
   "source": [
    "token = \"your_token_here\"  # Replace with your actual token\nheaders = {'token': token}\nstation_id = \"GHCND:USW00014732\"\nbase_url = \"https://www.ncei.noaa.gov/cdo-web/api/v2/data\"\n\nmonths = [\n    (\"2022-01-01\", \"2022-01-31\"), (\"2022-02-01\", \"2022-02-28\"),\n    (\"2022-03-01\", \"2022-03-31\"), (\"2022-04-01\", \"2022-04-30\"),\n    (\"2022-05-01\", \"2022-05-31\"), (\"2022-06-01\", \"2022-06-30\"),\n    (\"2022-07-01\", \"2022-07-31\"), (\"2022-08-01\", \"2022-08-31\"),\n    (\"2022-09-01\", \"2022-09-30\"), (\"2022-10-01\", \"2022-10-31\"),\n    (\"2022-11-01\", \"2022-11-30\"), (\"2022-12-01\", \"2022-12-31\")\n]\n\nall_data = []\nfor start, end in months:\n    print(f\"Fetching {start} to {end}...\")\n    params = {\n        \"datasetid\": \"GHCND\",\n        \"stationid\": station_id,\n        \"startdate\": start,\n        \"enddate\": end,\n        \"limit\": 1000,\n        \"units\": \"standard\",\n        \"datatypeid\": [\"TMAX\", \"TMIN\", \"PRCP\"],\n    }\n    response = requests.get(base_url, headers=headers, params=params)\n    if response.status_code == 200:\n        all_data.extend(response.json().get(\"results\", []))\n        print(f\"✅ Success: {len(response.json().get('results', []))} records\")\n    else:\n        print(f\"❌ Failed: {response.status_code} - {response.text}\")\n    sleep(1)\n\nweather_df = pd.DataFrame(all_data)\nweather_df['date'] = pd.to_datetime(weather_df['date'])\nweather_wide = weather_df.pivot_table(index='date', columns='datatype', values='value').reset_index()\nweather_wide.to_csv(\"laguardia_weather_2022.csv\", index=False)"
   ]
  },
  {
   "cell_type": "markdown",
   "id": "f4b72e3e",
   "metadata": {},
   "source": [
    "## 4. Retrying Failed Weather Requests"
   ]
  },
  {
   "cell_type": "code",
   "execution_count": null,
   "id": "0d8b8833",
   "metadata": {},
   "outputs": [],
   "source": [
    "retry_months = [(\"2022-02-01\", \"2022-02-28\"), (\"2022-12-01\", \"2022-12-31\")]\nextra_data = []\nfor start, end in retry_months:\n    print(f\"Retrying {start} to {end}...\")\n    params = {\n        \"datasetid\": \"GHCND\",\n        \"stationid\": station_id,\n        \"startdate\": start,\n        \"enddate\": end,\n        \"limit\": 1000,\n        \"units\": \"standard\",\n        \"datatypeid\": [\"TMAX\", \"TMIN\", \"PRCP\"],\n    }\n    response = requests.get(base_url, headers=headers, params=params)\n    if response.status_code == 200:\n        extra_data.extend(response.json().get(\"results\", []))\n        print(\"✅ Success\")\n    else:\n        print(f\"❌ Still failed: {response.status_code}\")\n\nif extra_data:\n    df_retry = pd.DataFrame(extra_data)\n    df_retry.to_csv(\"laguardia_weather_retries.csv\", index=False)"
   ]
  },
  {
   "cell_type": "markdown",
   "id": "4539fc17",
   "metadata": {},
   "source": [
    "## 5. Combining Weather Files"
   ]
  },
  {
   "cell_type": "code",
   "execution_count": null,
   "id": "4c703f29",
   "metadata": {},
   "outputs": [],
   "source": [
    "df_main = pd.read_csv(\"laguardia_weather_2022.csv\")\ndf_retry = pd.read_csv(\"laguardia_weather_retries.csv\")\ndf_retry['date'] = pd.to_datetime(df_retry['date'])\nweather_retry_wide = df_retry.pivot_table(index='date', columns='datatype', values='value').reset_index()\ndf_main['date'] = pd.to_datetime(df_main['date'])\nfull_weather = pd.concat([df_main, weather_retry_wide], ignore_index=True)\nfull_weather = full_weather.sort_values(\"date\").drop_duplicates(\"date\")\nfull_weather.to_csv(\"laguardia_weather_combined_2022.csv\", index=False)"
   ]
  },
  {
   "cell_type": "markdown",
   "id": "b14ed2c6",
   "metadata": {},
   "source": [
    "## 6. Merging Citi Bike and Weather Data"
   ]
  },
  {
   "cell_type": "code",
   "execution_count": null,
   "id": "4bc97e9c",
   "metadata": {},
   "outputs": [],
   "source": [
    "bike_df = pd.read_csv(\"combined_citibike_2022.csv\", parse_dates=[\"started_at\"])\nweather_df = pd.read_csv(\"laguardia_weather_combined_2022.csv\", parse_dates=[\"date\"])\nbike_df['date'] = bike_df['started_at'].dt.date\nweather_df['date'] = weather_df['date'].dt.date\nmerged_df = pd.merge(bike_df, weather_df, on='date', how='left')\nmerged_df.to_csv(\"citibike_weather_merged_2022.csv\", index=False)\nprint(\"✅ Merged dataset shape:\", merged_df.shape)"
   ]
  },
  {
   "cell_type": "markdown",
   "id": "1d69805e",
   "metadata": {},
   "source": [
    "## 7. Observations and Export\n\n- All 36 trip files successfully combined.\n- NOAA weather merged on date.\n- Ready for dashboard visualization."
   ]
  }
 ],
 "metadata": {
  "kernelspec": {
   "display_name": "Python 3",
   "language": "python",
   "name": "python3"
  },
  "language_info": {
   "name": "python",
   "version": "3.10"
  }
 },
 "nbformat": 4,
 "nbformat_minor": 5
}

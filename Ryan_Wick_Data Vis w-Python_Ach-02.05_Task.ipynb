{
 "cells": [
  {
   "cell_type": "markdown",
   "id": "22cd6310-cf08-4ca6-aedf-434ab098d1a2",
   "metadata": {},
   "source": [
    "# Achievement 2.5: Advanced Geospatial Plotting with Kepler.gl\n",
    "\n",
    "This notebook uses `kepler.gl` to visualize the top 50 Citi Bike routes in New York City from 2022. It incorporates weather data, station locations, and ride metadata to create an interactive dashboard for route analysis. You will see trip arcs, start/end stations, and dynamic filters—all styled for clarity and insight."
   ]
  },
  {
   "cell_type": "markdown",
   "id": "a2a15c41-678f-4e05-adbb-2aa7967ec6ec",
   "metadata": {},
   "source": [
    "## Table of Contents\n",
    "1. [Imports and Setup](#1.-Imports-and-Setup)\n",
    "2. [Load and Prepare Data](#2.-Load-and-Prepare-Data)\n",
    "3. [Aggregate Top 50 Routes](#3.-Aggregate-Top-50-Routes)\n",
    "4. [Create Kepler Map](#4.-Create-Kepler-Map)\n",
    "5. [Customization and Layers](#5.-Customization-and-Layers)\n",
    "6. [Filters and Insights](#6.-Filters-and-Insights)\n",
    "7. [Export HTML Map](#7.-Export-HTML-Map)"
   ]
  },
  {
   "cell_type": "markdown",
   "id": "32a664a9-044d-4c7d-b839-68244bd82d1e",
   "metadata": {
    "scrolled": true
   },
   "source": [
    "## 1. Imports and Setup"
   ]
  },
  {
   "cell_type": "code",
   "execution_count": 16,
   "id": "c75f0e84-a4f3-4fc9-9329-48748556b000",
   "metadata": {},
   "outputs": [],
   "source": [
    "from keplergl import KeplerGl\n",
    "import pandas as pd"
   ]
  },
  {
   "cell_type": "markdown",
   "id": "5ee2204b-daa3-4757-b918-92f631f9c3bf",
   "metadata": {},
   "source": [
    "## 2. Load and Prepare Data"
   ]
  },
  {
   "cell_type": "markdown",
   "id": "b5045bbd-6552-4111-8024-c8c8b4654971",
   "metadata": {},
   "source": [
    "We load the dataset created in Exercise 2.4 and filter it to prepare for aggregation."
   ]
  },
  {
   "cell_type": "code",
   "execution_count": 17,
   "id": "a94020e2-d194-4b3e-a038-70f6ad0282b2",
   "metadata": {},
   "outputs": [
    {
     "name": "stderr",
     "output_type": "stream",
     "text": [
      "C:\\Users\\rewha\\AppData\\Local\\Temp\\ipykernel_17696\\244743507.py:2: DtypeWarning: Columns (5,7) have mixed types. Specify dtype option on import or set low_memory=False.\n",
      "  df = pd.read_csv(\"citibike_weather_merged_2022.csv\", parse_dates=[\"started_at\"])\n"
     ]
    },
    {
     "name": "stdout",
     "output_type": "stream",
     "text": [
      "✅ Data shape: (29838806, 18)\n"
     ]
    },
    {
     "data": {
      "text/html": [
       "<div>\n",
       "<style scoped>\n",
       "    .dataframe tbody tr th:only-of-type {\n",
       "        vertical-align: middle;\n",
       "    }\n",
       "\n",
       "    .dataframe tbody tr th {\n",
       "        vertical-align: top;\n",
       "    }\n",
       "\n",
       "    .dataframe thead th {\n",
       "        text-align: right;\n",
       "    }\n",
       "</style>\n",
       "<table border=\"1\" class=\"dataframe\">\n",
       "  <thead>\n",
       "    <tr style=\"text-align: right;\">\n",
       "      <th></th>\n",
       "      <th>ride_id</th>\n",
       "      <th>rideable_type</th>\n",
       "      <th>started_at</th>\n",
       "      <th>ended_at</th>\n",
       "      <th>start_station_name</th>\n",
       "      <th>start_station_id</th>\n",
       "      <th>end_station_name</th>\n",
       "      <th>end_station_id</th>\n",
       "      <th>start_lat</th>\n",
       "      <th>start_lng</th>\n",
       "      <th>end_lat</th>\n",
       "      <th>end_lng</th>\n",
       "      <th>member_casual</th>\n",
       "      <th>date</th>\n",
       "      <th>PRCP</th>\n",
       "      <th>TMAX</th>\n",
       "      <th>TMIN</th>\n",
       "      <th>trip_count</th>\n",
       "    </tr>\n",
       "  </thead>\n",
       "  <tbody>\n",
       "    <tr>\n",
       "      <th>0</th>\n",
       "      <td>BFD29218AB271154</td>\n",
       "      <td>electric_bike</td>\n",
       "      <td>2022-01-21 13:13:43.392</td>\n",
       "      <td>2022-01-21 13:22:31.463</td>\n",
       "      <td>West End Ave &amp; W 107 St</td>\n",
       "      <td>7650.05</td>\n",
       "      <td>Mt Morris Park W &amp; W 120 St</td>\n",
       "      <td>7685.14</td>\n",
       "      <td>40.802117</td>\n",
       "      <td>-73.968181</td>\n",
       "      <td>40.804038</td>\n",
       "      <td>-73.945925</td>\n",
       "      <td>member</td>\n",
       "      <td>2022-01-21</td>\n",
       "      <td>0.0</td>\n",
       "      <td>23.0</td>\n",
       "      <td>15.0</td>\n",
       "      <td>1</td>\n",
       "    </tr>\n",
       "    <tr>\n",
       "      <th>1</th>\n",
       "      <td>7C953F2FD7BE1302</td>\n",
       "      <td>classic_bike</td>\n",
       "      <td>2022-01-10 11:30:54.162</td>\n",
       "      <td>2022-01-10 11:41:43.422</td>\n",
       "      <td>4 Ave &amp; 3 St</td>\n",
       "      <td>4028.04</td>\n",
       "      <td>Boerum Pl\\t&amp; Pacific St</td>\n",
       "      <td>4488.09</td>\n",
       "      <td>40.673746</td>\n",
       "      <td>-73.985649</td>\n",
       "      <td>40.688489</td>\n",
       "      <td>-73.991160</td>\n",
       "      <td>member</td>\n",
       "      <td>2022-01-10</td>\n",
       "      <td>0.0</td>\n",
       "      <td>42.0</td>\n",
       "      <td>26.0</td>\n",
       "      <td>1</td>\n",
       "    </tr>\n",
       "    <tr>\n",
       "      <th>2</th>\n",
       "      <td>95893ABD40CED4B8</td>\n",
       "      <td>electric_bike</td>\n",
       "      <td>2022-01-26 10:52:43.096</td>\n",
       "      <td>2022-01-26 11:06:35.227</td>\n",
       "      <td>1 Ave &amp; E 62 St</td>\n",
       "      <td>6753.08</td>\n",
       "      <td>5 Ave &amp; E 29 St</td>\n",
       "      <td>6248.06</td>\n",
       "      <td>40.761227</td>\n",
       "      <td>-73.960940</td>\n",
       "      <td>40.745168</td>\n",
       "      <td>-73.986831</td>\n",
       "      <td>member</td>\n",
       "      <td>2022-01-26</td>\n",
       "      <td>0.0</td>\n",
       "      <td>30.0</td>\n",
       "      <td>21.0</td>\n",
       "      <td>1</td>\n",
       "    </tr>\n",
       "    <tr>\n",
       "      <th>3</th>\n",
       "      <td>F853B50772137378</td>\n",
       "      <td>classic_bike</td>\n",
       "      <td>2022-01-03 08:35:48.247</td>\n",
       "      <td>2022-01-03 09:10:50.475</td>\n",
       "      <td>2 Ave &amp; E 96 St</td>\n",
       "      <td>7338.02</td>\n",
       "      <td>5 Ave &amp; E 29 St</td>\n",
       "      <td>6248.06</td>\n",
       "      <td>40.783964</td>\n",
       "      <td>-73.947167</td>\n",
       "      <td>40.745168</td>\n",
       "      <td>-73.986831</td>\n",
       "      <td>member</td>\n",
       "      <td>2022-01-03</td>\n",
       "      <td>0.0</td>\n",
       "      <td>39.0</td>\n",
       "      <td>24.0</td>\n",
       "      <td>1</td>\n",
       "    </tr>\n",
       "    <tr>\n",
       "      <th>4</th>\n",
       "      <td>7590ADF834797B4B</td>\n",
       "      <td>classic_bike</td>\n",
       "      <td>2022-01-22 14:14:23.043</td>\n",
       "      <td>2022-01-22 14:34:57.474</td>\n",
       "      <td>6 Ave &amp; W 34 St</td>\n",
       "      <td>6364.1</td>\n",
       "      <td>5 Ave &amp; E 29 St</td>\n",
       "      <td>6248.06</td>\n",
       "      <td>40.749640</td>\n",
       "      <td>-73.988050</td>\n",
       "      <td>40.745168</td>\n",
       "      <td>-73.986831</td>\n",
       "      <td>member</td>\n",
       "      <td>2022-01-22</td>\n",
       "      <td>0.0</td>\n",
       "      <td>30.0</td>\n",
       "      <td>14.0</td>\n",
       "      <td>1</td>\n",
       "    </tr>\n",
       "  </tbody>\n",
       "</table>\n",
       "</div>"
      ],
      "text/plain": [
       "            ride_id  rideable_type              started_at  \\\n",
       "0  BFD29218AB271154  electric_bike 2022-01-21 13:13:43.392   \n",
       "1  7C953F2FD7BE1302   classic_bike 2022-01-10 11:30:54.162   \n",
       "2  95893ABD40CED4B8  electric_bike 2022-01-26 10:52:43.096   \n",
       "3  F853B50772137378   classic_bike 2022-01-03 08:35:48.247   \n",
       "4  7590ADF834797B4B   classic_bike 2022-01-22 14:14:23.043   \n",
       "\n",
       "                  ended_at       start_station_name start_station_id  \\\n",
       "0  2022-01-21 13:22:31.463  West End Ave & W 107 St          7650.05   \n",
       "1  2022-01-10 11:41:43.422             4 Ave & 3 St          4028.04   \n",
       "2  2022-01-26 11:06:35.227          1 Ave & E 62 St          6753.08   \n",
       "3  2022-01-03 09:10:50.475          2 Ave & E 96 St          7338.02   \n",
       "4  2022-01-22 14:34:57.474          6 Ave & W 34 St           6364.1   \n",
       "\n",
       "              end_station_name end_station_id  start_lat  start_lng  \\\n",
       "0  Mt Morris Park W & W 120 St        7685.14  40.802117 -73.968181   \n",
       "1      Boerum Pl\\t& Pacific St        4488.09  40.673746 -73.985649   \n",
       "2              5 Ave & E 29 St        6248.06  40.761227 -73.960940   \n",
       "3              5 Ave & E 29 St        6248.06  40.783964 -73.947167   \n",
       "4              5 Ave & E 29 St        6248.06  40.749640 -73.988050   \n",
       "\n",
       "     end_lat    end_lng member_casual        date  PRCP  TMAX  TMIN  \\\n",
       "0  40.804038 -73.945925        member  2022-01-21   0.0  23.0  15.0   \n",
       "1  40.688489 -73.991160        member  2022-01-10   0.0  42.0  26.0   \n",
       "2  40.745168 -73.986831        member  2022-01-26   0.0  30.0  21.0   \n",
       "3  40.745168 -73.986831        member  2022-01-03   0.0  39.0  24.0   \n",
       "4  40.745168 -73.986831        member  2022-01-22   0.0  30.0  14.0   \n",
       "\n",
       "   trip_count  \n",
       "0           1  \n",
       "1           1  \n",
       "2           1  \n",
       "3           1  \n",
       "4           1  "
      ]
     },
     "execution_count": 17,
     "metadata": {},
     "output_type": "execute_result"
    }
   ],
   "source": [
    "# Load dataset\n",
    "df = pd.read_csv(\"citibike_weather_merged_2022.csv\", parse_dates=[\"started_at\"])\n",
    "\n",
    "# Add a column for trip count to allow aggregation\n",
    "df[\"trip_count\"] = 1\n",
    "print(\"\\u2705 Data shape:\", df.shape)\n",
    "df.head()"
   ]
  },
  {
   "cell_type": "markdown",
   "id": "3b60e6dc-6a73-4dc7-ae7b-f7b130fc1744",
   "metadata": {},
   "source": [
    "## 3. Aggregate Top 50 Routes"
   ]
  },
  {
   "cell_type": "markdown",
   "id": "356dcb93-58db-489d-ba8f-06edbccda0f3",
   "metadata": {},
   "source": [
    "Grouped by origin and destination station names and coordinates, summing the number of trips to identify the most frequent routes."
   ]
  },
  {
   "cell_type": "code",
   "execution_count": 18,
   "id": "38a48b7c-8094-4ab7-a6ef-2452bc56c350",
   "metadata": {},
   "outputs": [
    {
     "name": "stdout",
     "output_type": "stream",
     "text": [
      "✅ Top 50 trip data shape: (236998, 19)\n"
     ]
    },
    {
     "data": {
      "text/html": [
       "<div>\n",
       "<style scoped>\n",
       "    .dataframe tbody tr th:only-of-type {\n",
       "        vertical-align: middle;\n",
       "    }\n",
       "\n",
       "    .dataframe tbody tr th {\n",
       "        vertical-align: top;\n",
       "    }\n",
       "\n",
       "    .dataframe thead th {\n",
       "        text-align: right;\n",
       "    }\n",
       "</style>\n",
       "<table border=\"1\" class=\"dataframe\">\n",
       "  <thead>\n",
       "    <tr style=\"text-align: right;\">\n",
       "      <th></th>\n",
       "      <th>ride_id</th>\n",
       "      <th>rideable_type</th>\n",
       "      <th>started_at</th>\n",
       "      <th>ended_at</th>\n",
       "      <th>start_station_name</th>\n",
       "      <th>start_station_id</th>\n",
       "      <th>end_station_name</th>\n",
       "      <th>end_station_id</th>\n",
       "      <th>start_lat</th>\n",
       "      <th>start_lng</th>\n",
       "      <th>end_lat</th>\n",
       "      <th>end_lng</th>\n",
       "      <th>member_casual</th>\n",
       "      <th>date</th>\n",
       "      <th>PRCP</th>\n",
       "      <th>TMAX</th>\n",
       "      <th>TMIN</th>\n",
       "      <th>trip_count</th>\n",
       "      <th>route</th>\n",
       "    </tr>\n",
       "  </thead>\n",
       "  <tbody>\n",
       "    <tr>\n",
       "      <th>2452</th>\n",
       "      <td>EF0CBDDC95319C42</td>\n",
       "      <td>classic_bike</td>\n",
       "      <td>2022-01-11 19:32:09.252</td>\n",
       "      <td>2022-01-11 19:34:21.964</td>\n",
       "      <td>Amsterdam Ave &amp; W 73 St</td>\n",
       "      <td>7260.09</td>\n",
       "      <td>Amsterdam Ave &amp; W 79 St</td>\n",
       "      <td>7311.02</td>\n",
       "      <td>40.779668</td>\n",
       "      <td>-73.98093</td>\n",
       "      <td>40.782939</td>\n",
       "      <td>-73.978652</td>\n",
       "      <td>member</td>\n",
       "      <td>2022-01-11</td>\n",
       "      <td>0.00</td>\n",
       "      <td>26.0</td>\n",
       "      <td>17.0</td>\n",
       "      <td>1</td>\n",
       "      <td>Amsterdam Ave &amp; W 73 St -&gt; Amsterdam Ave &amp; W 7...</td>\n",
       "    </tr>\n",
       "    <tr>\n",
       "      <th>2453</th>\n",
       "      <td>2E5CB4185318D812</td>\n",
       "      <td>classic_bike</td>\n",
       "      <td>2022-01-14 17:40:08.285</td>\n",
       "      <td>2022-01-14 17:42:39.175</td>\n",
       "      <td>Amsterdam Ave &amp; W 73 St</td>\n",
       "      <td>7260.09</td>\n",
       "      <td>Amsterdam Ave &amp; W 79 St</td>\n",
       "      <td>7311.02</td>\n",
       "      <td>40.779668</td>\n",
       "      <td>-73.98093</td>\n",
       "      <td>40.782939</td>\n",
       "      <td>-73.978652</td>\n",
       "      <td>member</td>\n",
       "      <td>2022-01-14</td>\n",
       "      <td>0.00</td>\n",
       "      <td>43.0</td>\n",
       "      <td>22.0</td>\n",
       "      <td>1</td>\n",
       "      <td>Amsterdam Ave &amp; W 73 St -&gt; Amsterdam Ave &amp; W 7...</td>\n",
       "    </tr>\n",
       "    <tr>\n",
       "      <th>2454</th>\n",
       "      <td>0DC9B946329DF832</td>\n",
       "      <td>electric_bike</td>\n",
       "      <td>2022-01-11 18:09:35.888</td>\n",
       "      <td>2022-01-11 18:11:32.954</td>\n",
       "      <td>Amsterdam Ave &amp; W 73 St</td>\n",
       "      <td>7260.09</td>\n",
       "      <td>Amsterdam Ave &amp; W 79 St</td>\n",
       "      <td>7311.02</td>\n",
       "      <td>40.779668</td>\n",
       "      <td>-73.98093</td>\n",
       "      <td>40.782939</td>\n",
       "      <td>-73.978652</td>\n",
       "      <td>member</td>\n",
       "      <td>2022-01-11</td>\n",
       "      <td>0.00</td>\n",
       "      <td>26.0</td>\n",
       "      <td>17.0</td>\n",
       "      <td>1</td>\n",
       "      <td>Amsterdam Ave &amp; W 73 St -&gt; Amsterdam Ave &amp; W 7...</td>\n",
       "    </tr>\n",
       "    <tr>\n",
       "      <th>2455</th>\n",
       "      <td>ECD78BB5A277C8C3</td>\n",
       "      <td>classic_bike</td>\n",
       "      <td>2022-01-16 18:16:57.025</td>\n",
       "      <td>2022-01-16 18:23:01.743</td>\n",
       "      <td>Amsterdam Ave &amp; W 73 St</td>\n",
       "      <td>7260.09</td>\n",
       "      <td>Amsterdam Ave &amp; W 79 St</td>\n",
       "      <td>7311.02</td>\n",
       "      <td>40.779668</td>\n",
       "      <td>-73.98093</td>\n",
       "      <td>40.782939</td>\n",
       "      <td>-73.978652</td>\n",
       "      <td>member</td>\n",
       "      <td>2022-01-16</td>\n",
       "      <td>0.36</td>\n",
       "      <td>40.0</td>\n",
       "      <td>10.0</td>\n",
       "      <td>1</td>\n",
       "      <td>Amsterdam Ave &amp; W 73 St -&gt; Amsterdam Ave &amp; W 7...</td>\n",
       "    </tr>\n",
       "    <tr>\n",
       "      <th>2457</th>\n",
       "      <td>856E0EA52160358D</td>\n",
       "      <td>classic_bike</td>\n",
       "      <td>2022-01-20 21:57:20.543</td>\n",
       "      <td>2022-01-20 21:59:04.827</td>\n",
       "      <td>Amsterdam Ave &amp; W 73 St</td>\n",
       "      <td>7260.09</td>\n",
       "      <td>Amsterdam Ave &amp; W 79 St</td>\n",
       "      <td>7311.02</td>\n",
       "      <td>40.779668</td>\n",
       "      <td>-73.98093</td>\n",
       "      <td>40.782939</td>\n",
       "      <td>-73.978652</td>\n",
       "      <td>member</td>\n",
       "      <td>2022-01-20</td>\n",
       "      <td>0.25</td>\n",
       "      <td>47.0</td>\n",
       "      <td>23.0</td>\n",
       "      <td>1</td>\n",
       "      <td>Amsterdam Ave &amp; W 73 St -&gt; Amsterdam Ave &amp; W 7...</td>\n",
       "    </tr>\n",
       "  </tbody>\n",
       "</table>\n",
       "</div>"
      ],
      "text/plain": [
       "               ride_id  rideable_type              started_at  \\\n",
       "2452  EF0CBDDC95319C42   classic_bike 2022-01-11 19:32:09.252   \n",
       "2453  2E5CB4185318D812   classic_bike 2022-01-14 17:40:08.285   \n",
       "2454  0DC9B946329DF832  electric_bike 2022-01-11 18:09:35.888   \n",
       "2455  ECD78BB5A277C8C3   classic_bike 2022-01-16 18:16:57.025   \n",
       "2457  856E0EA52160358D   classic_bike 2022-01-20 21:57:20.543   \n",
       "\n",
       "                     ended_at       start_station_name start_station_id  \\\n",
       "2452  2022-01-11 19:34:21.964  Amsterdam Ave & W 73 St          7260.09   \n",
       "2453  2022-01-14 17:42:39.175  Amsterdam Ave & W 73 St          7260.09   \n",
       "2454  2022-01-11 18:11:32.954  Amsterdam Ave & W 73 St          7260.09   \n",
       "2455  2022-01-16 18:23:01.743  Amsterdam Ave & W 73 St          7260.09   \n",
       "2457  2022-01-20 21:59:04.827  Amsterdam Ave & W 73 St          7260.09   \n",
       "\n",
       "             end_station_name end_station_id  start_lat  start_lng    end_lat  \\\n",
       "2452  Amsterdam Ave & W 79 St        7311.02  40.779668  -73.98093  40.782939   \n",
       "2453  Amsterdam Ave & W 79 St        7311.02  40.779668  -73.98093  40.782939   \n",
       "2454  Amsterdam Ave & W 79 St        7311.02  40.779668  -73.98093  40.782939   \n",
       "2455  Amsterdam Ave & W 79 St        7311.02  40.779668  -73.98093  40.782939   \n",
       "2457  Amsterdam Ave & W 79 St        7311.02  40.779668  -73.98093  40.782939   \n",
       "\n",
       "        end_lng member_casual        date  PRCP  TMAX  TMIN  trip_count  \\\n",
       "2452 -73.978652        member  2022-01-11  0.00  26.0  17.0           1   \n",
       "2453 -73.978652        member  2022-01-14  0.00  43.0  22.0           1   \n",
       "2454 -73.978652        member  2022-01-11  0.00  26.0  17.0           1   \n",
       "2455 -73.978652        member  2022-01-16  0.36  40.0  10.0           1   \n",
       "2457 -73.978652        member  2022-01-20  0.25  47.0  23.0           1   \n",
       "\n",
       "                                                  route  \n",
       "2452  Amsterdam Ave & W 73 St -> Amsterdam Ave & W 7...  \n",
       "2453  Amsterdam Ave & W 73 St -> Amsterdam Ave & W 7...  \n",
       "2454  Amsterdam Ave & W 73 St -> Amsterdam Ave & W 7...  \n",
       "2455  Amsterdam Ave & W 73 St -> Amsterdam Ave & W 7...  \n",
       "2457  Amsterdam Ave & W 73 St -> Amsterdam Ave & W 7...  "
      ]
     },
     "execution_count": 18,
     "metadata": {},
     "output_type": "execute_result"
    }
   ],
   "source": [
    "# Group by trip route\n",
    "top_routes = df.groupby([\n",
    "    \"start_station_name\", \"start_lat\", \"start_lng\",\n",
    "    \"end_station_name\", \"end_lat\", \"end_lng\"\n",
    "])[\"trip_count\"].sum().reset_index()\n",
    "\n",
    "# Sort and keep top 50\n",
    "top_routes = top_routes.sort_values(by=\"trip_count\", ascending=False).head(50)\n",
    "\n",
    "# Merge back with full dataset to keep all original fields for top routes only\n",
    "df[\"route\"] = (\n",
    "    df[\"start_station_name\"] + \" -> \" + df[\"end_station_name\"]\n",
    ")\n",
    "top50_df = df[df[\"route\"].isin(\n",
    "    top_routes[\"start_station_name\"] + \" -> \" + top_routes[\"end_station_name\"]\n",
    ")]\n",
    "\n",
    "print(\"\\u2705 Top 50 trip data shape:\", top50_df.shape)\n",
    "top50_df.head()"
   ]
  },
  {
   "cell_type": "markdown",
   "id": "f8aa21ec-8393-4330-a4e0-9484c7083275",
   "metadata": {},
   "source": [
    "## 4. Create Kepler Map"
   ]
  },
  {
   "cell_type": "markdown",
   "id": "68fb1c11-acfc-4c1b-a393-7d470b0c250a",
   "metadata": {},
   "source": [
    "Passed the full-detail dataframe (top 50 routes only) into Kepler.gl."
   ]
  },
  {
   "cell_type": "code",
   "execution_count": 23,
   "id": "e405a792-a614-4131-8bbc-6aaa3f936d2a",
   "metadata": {},
   "outputs": [
    {
     "name": "stdout",
     "output_type": "stream",
     "text": [
      "User Guide: https://docs.kepler.gl/docs/keplergl-jupyter\n"
     ]
    },
    {
     "name": "stderr",
     "output_type": "stream",
     "text": [
      "C:\\Users\\rewha\\Anaconda\\envs\\citibike_env\\lib\\site-packages\\jupyter_client\\session.py:721: UserWarning: Message serialization failed with:\n",
      "Out of range float values are not JSON compliant\n",
      "Supporting this message is deprecated in jupyter-client 7, please make sure your message is JSON-compliant\n",
      "  content = self.pack(content)\n"
     ]
    },
    {
     "data": {
      "application/vnd.jupyter.widget-view+json": {
       "model_id": "e3caaf6e2f1f42f08f4bd02d510e9c96",
       "version_major": 2,
       "version_minor": 0
      },
      "text/plain": [
       "KeplerGl(data={'Top 50 Routes - Full Detail': {'index': [2452, 2453, 2454, 2455, 2457, 2458, 2467, 2477, 2479,…"
      ]
     },
     "execution_count": 23,
     "metadata": {},
     "output_type": "execute_result"
    }
   ],
   "source": [
    "# Initialize the map and pass in dataset\n",
    "map_50 = KeplerGl(height=600)\n",
    "map_50.add_data(data=top50_df, name=\"Top 50 Routes - Full Detail\")\n",
    "\n",
    "# Display map\n",
    "map_50"
   ]
  },
  {
   "cell_type": "markdown",
   "id": "d305c9b9-e270-4954-a081-25acd83df841",
   "metadata": {},
   "source": [
    "## 5. Customization and Layers"
   ]
  },
  {
   "cell_type": "markdown",
   "id": "a499d32f-cde5-45ec-8858-09168299548f",
   "metadata": {},
   "source": [
    "In Kepler.gl's UI:\n",
    "\n",
    "- **Start Station Layer (point):**\n",
    "  - Colored by `trip_count`\n",
    "  - Color scale: Quantile, Opacity: 0.7\n",
    "  - Radius: 10\n",
    "\n",
    "- **End Station Layer (point):**\n",
    "  - Colored by `trip_count`\n",
    "  - Color scale: Quantile, Opacity: 0.7\n",
    "  - Radius: 10\n",
    "  \n",
    "- **Trip Flow by Volume (arc):**\n",
    "  - Colored by `trip_count`\n",
    "  - Color scale: Quantile, Opacity: 0.8\n",
    "  - Stroke range: Min 2000, Max 11,000\n",
    "  - Stroke based on: `trip_count`\n",
    "\n",
    "> Chose to use trip count to color both arcs and points to visually reinforce which stations and routes are most frequently used."
   ]
  },
  {
   "cell_type": "markdown",
   "id": "931fe4fe-0b3e-47de-82dc-a4a669d41b06",
   "metadata": {},
   "source": [
    "## 6. Filters and Insights"
   ]
  },
  {
   "cell_type": "markdown",
   "id": "eaaddd01-b9db-419a-ab04-efb1e01dbb8c",
   "metadata": {},
   "source": [
    "Applied a filter on the `started_at` datetime column to explore how trip volume changes across seasons.\n",
    "\n",
    "### Key Observations\n",
    "- **High-volume trip clusters** center around Midtown and Lower Manhattan.\n",
    "- **Arcs form dense corridors**, often following subway and business commuting patterns.\n",
    "- **Uptick during warmer months** is observable with the `started_at` time filter.\n",
    "\n",
    "These trends suggest a blend of commuting and recreational usage influenced by seasonality and urban infrastructure."
   ]
  },
  {
   "cell_type": "markdown",
   "id": "9c9c03d8-b62d-4530-be4a-1b4182b8eb55",
   "metadata": {},
   "source": [
    "## 7. Export HTML Map"
   ]
  },
  {
   "cell_type": "markdown",
   "id": "e7b65c4c-eee1-4fe3-b179-6a31ba11414e",
   "metadata": {},
   "source": [
    "This cell saves the interactive map to a standalone HTML file for submission."
   ]
  },
  {
   "cell_type": "code",
   "execution_count": 24,
   "id": "219670c8-3b09-4550-bda6-385818d3f3d8",
   "metadata": {},
   "outputs": [
    {
     "name": "stdout",
     "output_type": "stream",
     "text": [
      "Map saved to citibike_arc_map_2022.html!\n",
      "✅ Map successfully saved as HTML\n"
     ]
    }
   ],
   "source": [
    "# Save map configuration and HTML\n",
    "config = map_50.config\n",
    "map_50.save_to_html(file_name=\"citibike_arc_map_2022.html\", config=config)\n",
    "print(\"\\u2705 Map successfully saved as HTML\")"
   ]
  },
  {
   "cell_type": "code",
   "execution_count": null,
   "id": "bde582ec-aa39-4fb2-ae95-2311b351671d",
   "metadata": {},
   "outputs": [],
   "source": []
  }
 ],
 "metadata": {
  "kernelspec": {
   "display_name": "Python 3 (ipykernel)",
   "language": "python",
   "name": "python3"
  },
  "language_info": {
   "codemirror_mode": {
    "name": "ipython",
    "version": 3
   },
   "file_extension": ".py",
   "mimetype": "text/x-python",
   "name": "python",
   "nbconvert_exporter": "python",
   "pygments_lexer": "ipython3",
   "version": "3.10.18"
  }
 },
 "nbformat": 4,
 "nbformat_minor": 5
}
